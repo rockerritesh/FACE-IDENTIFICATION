{
 "cells": [
  {
   "cell_type": "code",
   "execution_count": 1,
   "metadata": {},
   "outputs": [],
   "source": [
    "import cv2\n",
    "import numpy as np\n",
    "import face_recognition\n",
    "import os\n",
    "import matplotlib.pyplot as plt"
   ]
  },
  {
   "cell_type": "code",
   "execution_count": 2,
   "metadata": {},
   "outputs": [
    {
     "name": "stderr",
     "output_type": "stream",
     "text": [
      "2023-05-23 12:56:52.555836: I tensorflow/core/platform/cpu_feature_guard.cc:193] This TensorFlow binary is optimized with oneAPI Deep Neural Network Library (oneDNN) to use the following CPU instructions in performance-critical operations:  AVX2 FMA\n",
      "To enable them in other operations, rebuild TensorFlow with the appropriate compiler flags.\n",
      "2023-05-23 12:56:52.698731: W tensorflow/compiler/xla/stream_executor/platform/default/dso_loader.cc:64] Could not load dynamic library 'libcudart.so.11.0'; dlerror: libcudart.so.11.0: cannot open shared object file: No such file or directory; LD_LIBRARY_PATH: /home/limsim/.local/lib/python3.10/site-packages/cv2/../../lib64:\n",
      "2023-05-23 12:56:52.698758: I tensorflow/compiler/xla/stream_executor/cuda/cudart_stub.cc:29] Ignore above cudart dlerror if you do not have a GPU set up on your machine.\n",
      "2023-05-23 12:56:53.341078: W tensorflow/compiler/xla/stream_executor/platform/default/dso_loader.cc:64] Could not load dynamic library 'libnvinfer.so.7'; dlerror: libnvinfer.so.7: cannot open shared object file: No such file or directory; LD_LIBRARY_PATH: /home/limsim/.local/lib/python3.10/site-packages/cv2/../../lib64:\n",
      "2023-05-23 12:56:53.341202: W tensorflow/compiler/xla/stream_executor/platform/default/dso_loader.cc:64] Could not load dynamic library 'libnvinfer_plugin.so.7'; dlerror: libnvinfer_plugin.so.7: cannot open shared object file: No such file or directory; LD_LIBRARY_PATH: /home/limsim/.local/lib/python3.10/site-packages/cv2/../../lib64:\n",
      "2023-05-23 12:56:53.341211: W tensorflow/compiler/tf2tensorrt/utils/py_utils.cc:38] TF-TRT Warning: Cannot dlopen some TensorRT libraries. If you would like to use Nvidia GPU with TensorRT, please make sure the missing libraries mentioned above are installed properly.\n"
     ]
    }
   ],
   "source": [
    "import tensorflow as tf"
   ]
  },
  {
   "cell_type": "code",
   "execution_count": 3,
   "metadata": {},
   "outputs": [
    {
     "name": "stdout",
     "output_type": "stream",
     "text": [
      "['dad.jpg', 'bhanja.jpg', 'sumit.jpg', 'raju_don.jpg', 'Amit.jpg', 'praphool.jpg', 'mukesh.jpg']\n"
     ]
    }
   ],
   "source": [
    "path= 'image'\n",
    "images= []\n",
    "classname = []\n",
    "ilist= os.listdir(path)\n",
    "print(ilist)"
   ]
  },
  {
   "cell_type": "code",
   "execution_count": 4,
   "metadata": {},
   "outputs": [
    {
     "name": "stdout",
     "output_type": "stream",
     "text": [
      "['dad', 'bhanja', 'sumit', 'raju_don', 'Amit', 'praphool', 'mukesh']\n"
     ]
    }
   ],
   "source": [
    "for cl in ilist:\n",
    "    curimage=cv2.imread(f'{path}/{cl}')\n",
    "    images.append(curimage)\n",
    "    classname.append(os.path.splitext(cl)[0])\n",
    "print(classname)\n"
   ]
  },
  {
   "cell_type": "code",
   "execution_count": 5,
   "metadata": {},
   "outputs": [],
   "source": [
    "def findencoding(images):\n",
    "    encoded=[]\n",
    "    for img in images:\n",
    "        img= cv2.cvtColor(img,cv2.COLOR_BGR2RGB)\n",
    "        encode= face_recognition.face_encodings(img)[0]\n",
    "        encoded.append(encode)\n",
    "    return encoded    "
   ]
  },
  {
   "cell_type": "code",
   "execution_count": 6,
   "metadata": {},
   "outputs": [],
   "source": [
    "from datetime import datetime\n",
    "def markattendance(name):\n",
    "    with open('att.txt','r+') as f:\n",
    "        mydatalist = f.readlines()\n",
    "        namelist =[]\n",
    "        for line in mydatalist:\n",
    "            entry = line.split(',')\n",
    "            namelist.append(entry[0])\n",
    "        if name not in namelist:\n",
    "            now = datetime.now()\n",
    "            dtString = now.strftime('%H:%M:%S')\n",
    "            f.writelines(f'\\n{name},{dtString}')\n",
    "        #print(mydatalist)\n",
    "        \n",
    "\n",
    "    "
   ]
  },
  {
   "cell_type": "code",
   "execution_count": null,
   "metadata": {},
   "outputs": [],
   "source": []
  },
  {
   "cell_type": "code",
   "execution_count": null,
   "metadata": {},
   "outputs": [],
   "source": []
  },
  {
   "cell_type": "code",
   "execution_count": null,
   "metadata": {},
   "outputs": [],
   "source": []
  },
  {
   "cell_type": "code",
   "execution_count": null,
   "metadata": {},
   "outputs": [],
   "source": []
  },
  {
   "cell_type": "code",
   "execution_count": 7,
   "metadata": {},
   "outputs": [
    {
     "data": {
      "text/plain": [
       "\"markattendance('sumit')\""
      ]
     },
     "execution_count": 7,
     "metadata": {},
     "output_type": "execute_result"
    }
   ],
   "source": [
    "'''markattendance('sumit')'''"
   ]
  },
  {
   "cell_type": "code",
   "execution_count": 8,
   "metadata": {},
   "outputs": [
    {
     "name": "stdout",
     "output_type": "stream",
     "text": [
      "encodedlist completed\n"
     ]
    }
   ],
   "source": [
    "encodedlist= findencoding(images)\n",
    "print('encodedlist completed')"
   ]
  },
  {
   "cell_type": "code",
   "execution_count": 9,
   "metadata": {},
   "outputs": [
    {
     "data": {
      "text/plain": [
       "<matplotlib.image.AxesImage at 0x7f04af6b0d00>"
      ]
     },
     "execution_count": 9,
     "metadata": {},
     "output_type": "execute_result"
    },
    {
     "data": {
      "image/png": "[encoded data removed]",
      "text/plain": [
       "<Figure size 640x480 with 1 Axes>"
      ]
     },
     "metadata": {},
     "output_type": "display_data"
    }
   ],
   "source": [
    "plt.imshow(np.reshape(encodedlist[0],(16,8)))"
   ]
  },
  {
   "cell_type": "code",
   "execution_count": 10,
   "metadata": {},
   "outputs": [],
   "source": [
    "with open('test1.npy', 'wb') as f:\n",
    "    np.save(f,encodedlist)"
   ]
  },
  {
   "cell_type": "code",
   "execution_count": 11,
   "metadata": {},
   "outputs": [],
   "source": [
    "cap= cv2.VideoCapture(0)\n",
    "\n",
    "while True:\n",
    "    sucess,img = cap.read()\n",
    "    imgs = cv2.resize(img,(0,0),None,0.25,0.25)\n",
    "    imgs = cv2.cvtColor(imgs, cv2.COLOR_BGR2RGB)\n",
    "    \n",
    "    faceloc = face_recognition.face_locations(imgs)\n",
    "    encode= face_recognition.face_encodings(imgs, faceloc)\n",
    "    \n",
    "    for encode,faceloc in zip(encode, faceloc):\n",
    "        matches = face_recognition.compare_faces(encodedlist,encode)\n",
    "        facedis = face_recognition.face_distance(encodedlist,encode)\n",
    "        #print(facedis)\n",
    "        matchindex = np.argmin(facedis)\n",
    "        \n",
    "        if matches[matchindex]:\n",
    "            name = classname[matchindex].upper()\n",
    "            #print(name)\n",
    "            y1,x2,y2,x1 = faceloc\n",
    "            y1,x2,y2,x1 = y1*4,x2*4,y2*4,x1*4\n",
    "            cv2.rectangle(imgs,(x1,y1),(x2,y2),(0,255,255),2)\n",
    "            cv2.rectangle(img,(x1,y2-35),(x2,y2),(0,255,255),cv2.FILLED)\n",
    "            cv2.putText(img,name,(x1+6,y2-6),cv2.FONT_HERSHEY_COMPLEX,1,(255,255,255),2)\n",
    "            \n",
    "            markattendance(name)\n",
    "            \n",
    "            \n",
    "            \n",
    "    cv2.imshow('webcam',img)\n",
    "    if cv2.waitKey(1) & 0xFF == ord('q'):\n",
    "        break\n",
    "    \n",
    "cv2.destroyAllWindows()    \n",
    "    "
   ]
  },
  {
   "cell_type": "code",
   "execution_count": null,
   "metadata": {},
   "outputs": [],
   "source": []
  }
 ],
 "metadata": {
  "kernelspec": {
   "display_name": "Python 3 (ipykernel)",
   "language": "python",
   "name": "python3"
  },
  "language_info": {
   "codemirror_mode": {
    "name": "ipython",
    "version": 3
   },
   "file_extension": ".py",
   "mimetype": "text/x-python",
   "name": "python",
   "nbconvert_exporter": "python",
   "pygments_lexer": "ipython3",
   "version": "3.10.10"
  }
 },
 "nbformat": 4,
 "nbformat_minor": 4
}
