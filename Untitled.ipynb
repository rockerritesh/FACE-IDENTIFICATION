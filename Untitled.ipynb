{
 "cells": [
  {
   "cell_type": "code",
   "execution_count": null,
   "metadata": {},
   "outputs": [],
   "source": [
    "import cv2\n",
    "import numpy as np\n",
    "import face_recognition\n",
    "import os"
   ]
  },
  {
   "cell_type": "code",
   "execution_count": null,
   "metadata": {},
   "outputs": [],
   "source": [
    "path= 'image'\n",
    "images= []\n",
    "classname = []\n",
    "ilist= os.listdir(path)\n",
    "print(ilist)"
   ]
  },
  {
   "cell_type": "code",
   "execution_count": null,
   "metadata": {},
   "outputs": [],
   "source": [
    "for cl in ilist:\n",
    "    curimage=cv2.imread(f'{path}/{cl}')\n",
    "    images.append(curimage)\n",
    "    classname.append(os.path.splitext(cl)[0])\n",
    "print(classname)\n"
   ]
  },
  {
   "cell_type": "code",
   "execution_count": null,
   "metadata": {},
   "outputs": [],
   "source": [
    "def findencoding(images):\n",
    "    encoded=[]\n",
    "    for img in images:\n",
    "        img= cv2.cvtColor(img,cv2.COLOR_BGR2RGB)\n",
    "        encode= face_recognition.face_encodings(img)[0]\n",
    "        encoded.append(encode)\n",
    "    return encoded    "
   ]
  },
  {
   "cell_type": "code",
   "execution_count": null,
   "metadata": {},
   "outputs": [],
   "source": [
    "from datetime import datetime\n",
    "def markattendance(name):\n",
    "    with open('att.txt','r+') as f:\n",
    "        mydatalist = f.readlines()\n",
    "        namelist =[]\n",
    "        for line in mydatalist:\n",
    "            entry = line.split(',')\n",
    "            namelist.append(entry[0])\n",
    "        if name not in namelist:\n",
    "            now = datetime.now()\n",
    "            dtString = now.strftime('%H:%M:%S')\n",
    "            f.writelines(f'\\n{name},{dtString}')\n",
    "        #print(mydatalist)\n",
    "        \n",
    "\n",
    "    "
   ]
  },
  {
   "cell_type": "code",
   "execution_count": null,
   "metadata": {},
   "outputs": [],
   "source": [
    "'''markattendance('sumit')'''"
   ]
  },
  {
   "cell_type": "code",
   "execution_count": null,
   "metadata": {},
   "outputs": [],
   "source": [
    "encodedlist= findencoding(images)\n",
    "print('encodedlist completed')"
   ]
  },
  {
   "cell_type": "code",
   "execution_count": null,
   "metadata": {},
   "outputs": [],
   "source": [
    "cap= cv2.VideoCapture(0)\n",
    "\n",
    "while True:\n",
    "    sucess,img = cap.read()\n",
    "    imgs = cv2.resize(img,(0,0),None,0.25,0.25)\n",
    "    imgs = cv2.cvtColor(imgs, cv2.COLOR_BGR2RGB)\n",
    "    \n",
    "    faceloc = face_recognition.face_locations(imgs)\n",
    "    encode= face_recognition.face_encodings(imgs, faceloc)\n",
    "    \n",
    "    for encode,faceloc in zip(encode, faceloc):\n",
    "        matches = face_recognition.compare_faces(encodedlist,encode)\n",
    "        facedis = face_recognition.face_distance(encodedlist,encode)\n",
    "        #print(facedis)\n",
    "        matchindex = np.argmin(facedis)\n",
    "        \n",
    "        if matches[matchindex]:\n",
    "            name = classname[matchindex].upper()\n",
    "            #print(name)\n",
    "            y1,x2,y2,x1 = faceloc\n",
    "            y1,x2,y2,x1 = y1*4,x2*4,y2*4,x1*4\n",
    "            cv2.rectangle(imgs,(x1,y1),(x2,y2),(0,255,255),2)\n",
    "            cv2.rectangle(img,(x1,y2-35),(x2,y2),(0,255,255),cv2.FILLED)\n",
    "            cv2.putText(img,name,(x1+6,y2-6),cv2.FONT_HERSHEY_COMPLEX,1,(255,255,255),2)\n",
    "            \n",
    "            markattendance(name)\n",
    "            \n",
    "            \n",
    "            \n",
    "    cv2.imshow('webcam',img)\n",
    "    if cv2.waitKey(1) & 0xFF == ord('q'):\n",
    "        break\n",
    "    \n",
    "cv2.destroyAllWindows()    \n",
    "    "
   ]
  },
  {
   "cell_type": "code",
   "execution_count": null,
   "metadata": {},
   "outputs": [],
   "source": []
  }
 ],
 "metadata": {
  "kernelspec": {
   "display_name": "Python 3",
   "language": "python",
   "name": "python3"
  },
  "language_info": {
   "codemirror_mode": {
    "name": "ipython",
    "version": 3
   },
   "file_extension": ".py",
   "mimetype": "text/x-python",
   "name": "python",
   "nbconvert_exporter": "python",
   "pygments_lexer": "ipython3",
   "version": "3.7.7"
  }
 },
 "nbformat": 4,
 "nbformat_minor": 4
}
